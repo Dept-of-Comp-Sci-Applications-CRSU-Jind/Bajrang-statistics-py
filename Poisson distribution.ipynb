{
 "cells": [
  {
   "cell_type": "code",
   "execution_count": 42,
   "id": "7a675ecd",
   "metadata": {},
   "outputs": [
    {
     "name": "stdout",
     "output_type": "stream",
     "text": [
      "            Date  BRA   ESP   FRA  GER   ITA\n",
      "ARG                                         \n",
      "5.0   1993-08-08  8.0  13.0  12.0  1.0   2.0\n",
      "12.0  1993-09-23  1.0  14.0   7.0  5.0   2.0\n",
      "9.0   1993-10-22  1.0   7.0  14.0  4.0   3.0\n",
      "9.0   1993-11-19  4.0   7.0  15.0  3.0   1.0\n",
      "8.0   1993-12-23  3.0   5.0  15.0  1.0   2.0\n",
      "...          ...  ...   ...   ...  ...   ...\n",
      "4.0   2018-02-15  2.0   6.0   9.0  1.0  14.0\n",
      "4.0   2018-03-15  2.0   6.0   9.0  1.0  14.0\n",
      "5.0   2018-04-12  2.0   8.0   7.0  1.0  20.0\n",
      "5.0   2018-05-17  2.0   8.0   7.0  1.0  20.0\n",
      "5.0   2018-06-07  2.0  10.0   7.0  1.0  19.0\n",
      "\n",
      "[286 rows x 6 columns]\n",
      "mean rank BRA    3.171329\n",
      "ESP    5.321678\n",
      "FRA    8.958042\n",
      "GER    5.104895\n",
      "ITA    8.353147\n",
      "dtype: float64\n",
      "variance BRA    13.065052\n",
      "ESP    15.225194\n",
      "FRA    46.389848\n",
      "GER    18.898088\n",
      "ITA    20.312350\n",
      "dtype: float64\n",
      "Probability of ranking 3 or better: [61.40803599 89.99556033 99.35546367 88.39092039 98.95745169]\n"
     ]
    },
    {
     "name": "stderr",
     "output_type": "stream",
     "text": [
      "C:\\ProgramData\\Anaconda3\\lib\\site-packages\\numpy\\core\\fromnumeric.py:3438: FutureWarning: In a future version, DataFrame.mean(axis=None) will return a scalar mean over the entire DataFrame. To retain the old behavior, use 'frame.mean(axis=0)' or just 'frame.mean()'\n",
      "  return mean(axis=axis, dtype=dtype, out=out, **kwargs)\n",
      "C:\\ProgramData\\Anaconda3\\lib\\site-packages\\numpy\\core\\fromnumeric.py:3438: FutureWarning: Dropping of nuisance columns in DataFrame reductions (with 'numeric_only=None') is deprecated; in a future version this will raise TypeError.  Select only valid columns before calling the reduction.\n",
      "  return mean(axis=axis, dtype=dtype, out=out, **kwargs)\n",
      "C:\\ProgramData\\Anaconda3\\lib\\site-packages\\numpy\\core\\fromnumeric.py:3721: FutureWarning: Dropping of nuisance columns in DataFrame reductions (with 'numeric_only=None') is deprecated; in a future version this will raise TypeError.  Select only valid columns before calling the reduction.\n",
      "  return var(axis=axis, dtype=dtype, out=out, ddof=ddof, **kwargs)\n"
     ]
    }
   ],
   "source": [
    "import pandas as pd\n",
    "import numpy as np\n",
    "import matplotlib.pyplot as plt\n",
    "from scipy.stats import norm\n",
    "from scipy.stats import poisson\n",
    "import seaborn as sns\n",
    "fifa_filepath = (r\"C:\\Users\\BAJRANG\\Downloads\\fifa.csv\")\n",
    "\n",
    "# Read the file into a variable fifa_data\n",
    "fifa_data = pd.read_csv(fifa_filepath, index_col=\"ARG\")\n",
    "# Print the first 5 rows of the data\n",
    "print(fifa_data)\n",
    "#fifa_data.head()\n",
    "# Set the width and height of the figure\n",
    "#plt.figure(figsize=(16,6))\n",
    "\n",
    "# Line chart showing how FIFA rankings evolved over time \n",
    "#sns.lineplot(data=fifa_data)\n",
    "\n",
    "# Calculate the lambda parameter for the Poisson distribution\n",
    "lambda_value = np.mean(fifa_data)\n",
    "\n",
    "# Calculate the mean and variance of the rankings\n",
    "mean_rank = np.mean(fifa_data)\n",
    "variance_rank = np.var(fifa_data)\n",
    "\n",
    "# Print the mean and variance of the rankings\n",
    "print(\"mean rank\",mean_rank)\n",
    "print(\"variance\",variance_rank)\n",
    "# Calculate the probability of a country having a ranking of 3 or better\n",
    "prob_rank_3_or_better = 1 - poisson.cdf(2, lambda_value)\n",
    "print(\"Probability of ranking 3 or better:\",prob_rank_3_or_better * 100)"
   ]
  },
  {
   "cell_type": "code",
   "execution_count": 15,
   "id": "e07dbf49",
   "metadata": {},
   "outputs": [
    {
     "name": "stdout",
     "output_type": "stream",
     "text": [
      "Mean ranking: 4.50\n",
      "Variance of ranking: 5.25\n",
      "Probability of ranking 3 or better: 82.64%\n"
     ]
    }
   ],
   "source": [
    "import numpy as np\n",
    "from scipy.stats import poisson\n",
    "\n",
    "# Define the observed country rankings\n",
    "rankings = [1, 4, 2, 7, 3, 6, 5, 8]\n",
    "\n",
    "# Calculate the lambda parameter for the Poisson distribution\n",
    "lambda_value = np.mean(rankings)\n",
    "\n",
    "# Calculate the mean and variance of the rankings\n",
    "mean_rank = np.mean(rankings)\n",
    "variance_rank = np.var(rankings)\n",
    "\n",
    "# Print the mean and variance of the rankings\n",
    "print(\"Mean ranking: {:.2f}\".format(mean_rank))\n",
    "print(\"Variance of ranking: {:.2f}\".format(variance_rank))\n",
    "\n",
    "# Calculate the probability of a country having a ranking of 3 or better\n",
    "prob_rank_3_or_better = 1 - poisson.cdf(2, lambda_value)\n",
    "print(\"Probability of ranking 3 or better: {:.2f}%\".format(prob_rank_3_or_better * 100))\n",
    "\n",
    "# In this example, we define the observed country rankings as a list (rankings). You can replace this with your actual historical ranking data.\n",
    "\n",
    "# We calculate the lambda parameter for the Poisson distribution by taking the mean of the observed rankings (lambda_value = np.mean(rankings)). The mean of the rankings represents the average rate at which a country achieves a certain ranking.\n",
    "\n",
    "# We then calculate the mean and variance of the rankings using the numpy.mean and numpy.var functions, respectively.\n",
    "\n",
    "# Finally, we calculate the probability of a country having a ranking of 3 or better by using the scipy.stats.poisson.cdf function and subtracting from 1 to get the complement of the cumulative distribution function.\n",
    "\n",
    "# Remember that this example is for illustrative purposes, and you should adapt it to your specific dataset and requirements.\n",
    "\n",
    "\n",
    "\n",
    "\n",
    "\n",
    "\n",
    "\n"
   ]
  },
  {
   "cell_type": "code",
   "execution_count": 40,
   "id": "cd3e274c",
   "metadata": {},
   "outputs": [
    {
     "name": "stdout",
     "output_type": "stream",
     "text": [
      "0       5.0\n",
      "1      12.0\n",
      "2       9.0\n",
      "3       9.0\n",
      "4       8.0\n",
      "       ... \n",
      "281     4.0\n",
      "282     4.0\n",
      "283     5.0\n",
      "284     5.0\n",
      "285     5.0\n",
      "Name: ARG, Length: 286, dtype: float64\n",
      "24.0\n",
      "5.454545454545454\n",
      "[2.33281110e-02 6.36221209e-02 1.15676583e-01 1.57740796e-01\n",
      " 1.72080868e-01 1.56437153e-01 1.21899080e-01 8.31130091e-02\n",
      " 5.03715207e-02 2.74753749e-02 1.36241528e-02 6.19279675e-03\n",
      " 2.59837626e-03 1.01235439e-03 3.68128868e-04 1.25498478e-04\n",
      " 4.02668912e-05 1.22020882e-05 3.50299184e-06 9.55361411e-07\n",
      " 2.48145821e-07 6.15237573e-08 1.45906144e-08 3.31604872e-09\n",
      " 7.23501540e-10]\n"
     ]
    },
    {
     "data": {
      "image/png": "[encoded data removed]",
      "text/plain": [
       "<Figure size 640x480 with 1 Axes>"
      ]
     },
     "metadata": {},
     "output_type": "display_data"
    }
   ],
   "source": [
    "import numpy as np\n",
    "import pandas as pd\n",
    "from scipy.stats import poisson\n",
    "import matplotlib.pyplot as plt\n",
    "\n",
    "fifa_filepath = (r\"C:\\Users\\BAJRANG\\Downloads\\fifa.csv\")\n",
    "\n",
    "# Read the file into a variable fifa_data\n",
    "fifa_data = pd.read_csv(fifa_filepath)\n",
    "# Access the data in the desired column\n",
    "column_data = fifa_data['ARG']\n",
    "\n",
    "# Print the column data\n",
    "print(column_data)\n",
    "# Calculate the lambda parameter for the Poisson distribution\n",
    "lambda_value = np.mean(column_data)\n",
    "\n",
    "# Generate the x-values for the distribution (possible ranking values)\n",
    "x_values = np.arange(1, np.max(column_data) + 2)\n",
    "print(np.max(column_data))\n",
    "print(lambda_value)\n",
    "\n",
    "# Calculate the Poisson probabilities for each ranking value\n",
    "poisson_probs = poisson.pmf(x_values, lambda_value)\n",
    "print(poisson_probs)\n",
    "\n",
    "# # # Plot the Poisson distribution\n",
    "plt.bar(x_values, poisson_probs, align='center', alpha=0.5)\n",
    "plt.xticks(x_values)\n",
    "plt.xlabel('Ranking')\n",
    "plt.ylabel('Probability')\n",
    "plt.title('Poisson Distribution of ARG Country Rankings')\n",
    "plt.show()\n"
   ]
  },
  {
   "cell_type": "code",
   "execution_count": 37,
   "id": "64b95fa1",
   "metadata": {},
   "outputs": [
    {
     "name": "stdout",
     "output_type": "stream",
     "text": [
      "8\n",
      "[0.04999048 0.11247859 0.16871788 0.18980762 0.17082686 0.12812014\n",
      " 0.08236295 0.04632916 0.02316458]\n"
     ]
    },
    {
     "data": {
      "image/png": "[encoded data removed]",
      "text/plain": [
       "<Figure size 640x480 with 1 Axes>"
      ]
     },
     "metadata": {},
     "output_type": "display_data"
    }
   ],
   "source": [
    "import numpy as np\n",
    "from scipy.stats import poisson\n",
    "import matplotlib.pyplot as plt\n",
    "\n",
    "# Define the observed country rankings\n",
    "rankings = [1, 4, 2, 7, 3, 6, 5, 8]\n",
    "\n",
    "# Calculate the lambda parameter for the Poisson distribution\n",
    "lambda_value = np.mean(rankings)\n",
    "\n",
    "# Generate the x-values for the distribution (possible ranking values)\n",
    "x_values = np.arange(1, np.max(rankings) + 2)\n",
    "print(np.max(rankings))\n",
    "\n",
    "# Calculate the Poisson probabilities for each ranking value\n",
    "poisson_probs = poisson.pmf(x_values, lambda_value)\n",
    "print(poisson_probs)\n",
    "# Plot the Poisson distribution\n",
    "plt.bar(x_values, poisson_probs, align='center', alpha=0.5)\n",
    "plt.xticks(x_values)\n",
    "plt.xlabel('Ranking')\n",
    "plt.ylabel('Probability')\n",
    "plt.title('Poisson Distribution of Country Rankings')\n",
    "plt.show()\n"
   ]
  },
  {
   "cell_type": "code",
   "execution_count": null,
   "id": "cbce65aa",
   "metadata": {},
   "outputs": [],
   "source": [
    "# difference between cdf and pmf in poisson distribution\n",
    "\n",
    "# In probability theory, the terms CDF \n",
    "\n",
    "# (cumulative distribution function) and PMF (probability mass function) refer to different ways of characterizing a probability distribution. The distinction between CDF and PMF becomes relevant when discussing the Poisson distribution.\n",
    "\n",
    "# PMF (Probability Mass Function):\n",
    "# The PMF gives the probability of a discrete random variable taking on a specific value. For the Poisson distribution, the PMF represents the probability of observing a particular number of events within a given interval. It is defined as:\n",
    "\n",
    "# PMF(k; λ) = (e^(-λ) * λ^k) / k!\n",
    "\n",
    "# Where:\n",
    "\n",
    "# k represents the number of events (e.g., number of occurrences of an event)\n",
    "# λ is the average rate or intensity of the events\n",
    "# The PMF allows us to calculate the probability of observing a specific count (k) of events in a Poisson distribution.\n",
    "\n",
    "# CDF (Cumulative Distribution Function):\n",
    "# The CDF, on the other hand, gives the probability of a random variable being less than or equal to a particular value. It represents the cumulative probabilities up to a certain point. For the Poisson distribution, the CDF gives the probability of observing up to a certain number of events.\n",
    "\n",
    "# CDF(k; λ) = ∑[i=0 to k] (e^(-λ) * λ^i) / i!\n",
    "\n",
    "# The CDF provides a way to calculate the probability of observing a count less than or equal to a given value (k) in a Poisson distribution.\n",
    "\n",
    "# To summarize, the PMF calculates the probability of observing a specific count of events, while the CDF calculates the probability of observing up to a certain count of events."
   ]
  }
 ],
 "metadata": {
  "kernelspec": {
   "display_name": "Python 3 (ipykernel)",
   "language": "python",
   "name": "python3"
  },
  "language_info": {
   "codemirror_mode": {
    "name": "ipython",
    "version": 3
   },
   "file_extension": ".py",
   "mimetype": "text/x-python",
   "name": "python",
   "nbconvert_exporter": "python",
   "pygments_lexer": "ipython3",
   "version": "3.9.13"
  }
 },
 "nbformat": 4,
 "nbformat_minor": 5
}
