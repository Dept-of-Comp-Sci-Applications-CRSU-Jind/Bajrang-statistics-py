{
 "cells": [
  {
   "cell_type": "code",
   "execution_count": 7,
   "id": "271a4ef1-39c9-46cb-9258-c6b5da128a68",
   "metadata": {},
   "outputs": [
    {
     "name": "stdout",
     "output_type": "stream",
     "text": [
      "Mean Value For\n"
     ]
    },
    {
     "data": {
      "text/plain": [
       "Income      29375.0\n",
       "Expences    15625.0\n",
       "dtype: float64"
      ]
     },
     "execution_count": 7,
     "metadata": {},
     "output_type": "execute_result"
    }
   ],
   "source": [
    "import numpy as np\n",
    "import pandas as pd\n",
    "s_d =pd.DataFrame({'Income':[15000,20000,22000,25000,30000,22000,21000,80000],\n",
    "                  'Expences':[5000,10000,12000,15000,20000,12000,11000,40000]})\n",
    "# mean(Average Value)\n",
    "print(\"Mean Value For\")\n",
    "s_d[['Income','Expences']].mean()\n",
    "\n",
    "\n",
    "\n"
   ]
  },
  {
   "cell_type": "code",
   "execution_count": 6,
   "id": "2d24db63-3ffd-4d3d-a9af-1614832b512d",
   "metadata": {},
   "outputs": [
    {
     "name": "stdout",
     "output_type": "stream",
     "text": [
      "Median Value For\n"
     ]
    },
    {
     "data": {
      "text/plain": [
       "Income      22000.0\n",
       "Expences    12000.0\n",
       "dtype: float64"
      ]
     },
     "execution_count": 6,
     "metadata": {},
     "output_type": "execute_result"
    }
   ],
   "source": [
    "# median(Middle Value)\n",
    "print(\"Median Value For\")\n",
    "s_d[['Income','Expences']].median()"
   ]
  },
  {
   "cell_type": "code",
   "execution_count": 8,
   "id": "df721e52-7b17-4a3e-a92e-e399803b408f",
   "metadata": {},
   "outputs": [
    {
     "name": "stdout",
     "output_type": "stream",
     "text": [
      "Mode Value For\n"
     ]
    },
    {
     "data": {
      "text/html": [
       "<div>\n",
       "<style scoped>\n",
       "    .dataframe tbody tr th:only-of-type {\n",
       "        vertical-align: middle;\n",
       "    }\n",
       "\n",
       "    .dataframe tbody tr th {\n",
       "        vertical-align: top;\n",
       "    }\n",
       "\n",
       "    .dataframe thead th {\n",
       "        text-align: right;\n",
       "    }\n",
       "</style>\n",
       "<table border=\"1\" class=\"dataframe\">\n",
       "  <thead>\n",
       "    <tr style=\"text-align: right;\">\n",
       "      <th></th>\n",
       "      <th>Income</th>\n",
       "      <th>Expences</th>\n",
       "    </tr>\n",
       "  </thead>\n",
       "  <tbody>\n",
       "    <tr>\n",
       "      <th>0</th>\n",
       "      <td>22000</td>\n",
       "      <td>12000</td>\n",
       "    </tr>\n",
       "  </tbody>\n",
       "</table>\n",
       "</div>"
      ],
      "text/plain": [
       "   Income  Expences\n",
       "0   22000     12000"
      ]
     },
     "execution_count": 8,
     "metadata": {},
     "output_type": "execute_result"
    }
   ],
   "source": [
    "# mode(Most frequent Value)\n",
    "print(\"Mode Value For\")\n",
    "s_d[['Income','Expences']].mode()"
   ]
  },
  {
   "cell_type": "code",
   "execution_count": null,
   "id": "73a0785e-92b8-469f-871d-a2706b1386d0",
   "metadata": {},
   "outputs": [],
   "source": []
  }
 ],
 "metadata": {
  "kernelspec": {
   "display_name": "Python 3 (ipykernel)",
   "language": "python",
   "name": "python3"
  },
  "language_info": {
   "codemirror_mode": {
    "name": "ipython",
    "version": 3
   },
   "file_extension": ".py",
   "mimetype": "text/x-python",
   "name": "python",
   "nbconvert_exporter": "python",
   "pygments_lexer": "ipython3",
   "version": "3.9.13"
  }
 },
 "nbformat": 4,
 "nbformat_minor": 5
}
