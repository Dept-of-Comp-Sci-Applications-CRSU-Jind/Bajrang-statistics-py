{
 "cells": [
  {
   "cell_type": "code",
   "execution_count": 1,
   "id": "70d94709-bba1-4106-8a33-9a9a2b2e45cc",
   "metadata": {},
   "outputs": [
    {
     "name": "stdout",
     "output_type": "stream",
     "text": [
      "8\n"
     ]
    }
   ],
   "source": [
    "# measure of dispersion\n",
    "# range\n",
    "\n",
    "import numpy as np\n",
    "data = [5, 3, 7, 2, 8, 4, 9, 1, 6]\n",
    "range_val = np.max(data) - np.min(data)\n",
    "print(range_val)"
   ]
  },
  {
   "cell_type": "code",
   "execution_count": 2,
   "id": "d062bfec-e27e-4f55-abbe-43d7a431572a",
   "metadata": {},
   "outputs": [
    {
     "ename": "SyntaxError",
     "evalue": "invalid syntax (2963965225.py, line 1)",
     "output_type": "error",
     "traceback": [
      "\u001b[1;36m  File \u001b[1;32m\"C:\\Users\\BAJRANG\\AppData\\Local\\Temp\\ipykernel_27468\\2963965225.py\"\u001b[1;36m, line \u001b[1;32m1\u001b[0m\n\u001b[1;33m    Variance measures how much the data varies from its mean\u001b[0m\n\u001b[1;37m             ^\u001b[0m\n\u001b[1;31mSyntaxError\u001b[0m\u001b[1;31m:\u001b[0m invalid syntax\n"
     ]
    }
   ],
   "source": [
    " Variance measures how much the data varies from its mean\n",
    "    "
   ]
  },
  {
   "cell_type": "code",
   "execution_count": 5,
   "id": "4baee0c7-e298-4cd0-bbb1-92e82710982c",
   "metadata": {},
   "outputs": [
    {
     "name": "stdout",
     "output_type": "stream",
     "text": [
      "data varies 6.666666666666667 from its mean\n"
     ]
    }
   ],
   "source": [
    "#  Variance measures how much the variance\n",
    "\n",
    "import numpy as np\n",
    "data=[5, 3, 7, 2, 8, 4, 9, 1, 6]\n",
    "variance=np.var(data)\n",
    "print(\"data varies\",variance,\"from its mean\")"
   ]
  },
  {
   "cell_type": "code",
   "execution_count": 4,
   "id": "fa8673ee-db4d-4ab4-ab26-db0a72b2abfb",
   "metadata": {},
   "outputs": [
    {
     "name": "stdout",
     "output_type": "stream",
     "text": [
      "2.581988897471611\n"
     ]
    }
   ],
   "source": [
    "#The standard deviation is the square root of the variance. It measures the spread of the data in the same units as the original data\n",
    "\n",
    "import numpy as np\n",
    "data = [5, 3, 7, 2, 8, 4, 9, 1, 6]\n",
    "std_dev = np.std(data)\n",
    "print(std_dev)"
   ]
  },
  {
   "cell_type": "code",
   "execution_count": null,
   "id": "5c1cbe9f-5d3b-4e9a-a587-57a2d05a2fee",
   "metadata": {},
   "outputs": [],
   "source": []
  }
 ],
 "metadata": {
  "kernelspec": {
   "display_name": "Python 3 (ipykernel)",
   "language": "python",
   "name": "python3"
  },
  "language_info": {
   "codemirror_mode": {
    "name": "ipython",
    "version": 3
   },
   "file_extension": ".py",
   "mimetype": "text/x-python",
   "name": "python",
   "nbconvert_exporter": "python",
   "pygments_lexer": "ipython3",
   "version": "3.9.13"
  }
 },
 "nbformat": 4,
 "nbformat_minor": 5
}
